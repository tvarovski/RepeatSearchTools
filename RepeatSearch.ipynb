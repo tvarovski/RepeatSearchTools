{
  "nbformat": 4,
  "nbformat_minor": 0,
  "metadata": {
    "colab": {
      "name": "RepeatSearch.ipynb",
      "provenance": [],
      "collapsed_sections": []
    },
    "kernelspec": {
      "name": "python3",
      "display_name": "Python 3"
    },
    "language_info": {
      "name": "python"
    }
  },
  "cells": [
    {
      "cell_type": "markdown",
      "source": [
        "# RepeatSearchTools\n",
        "This notebook allows for search of imperfect repeats (Inverted and Direct) in a DNA sequence. Needs `regex` and `json` to work fully.\n",
        "\n",
        "Both can be downloaded through `pip`:\n",
        "\n",
        "```bash\n",
        "pip install regex\n",
        "pip install json\n",
        "```"
      ],
      "metadata": {
        "id": "2aYG8JWmxj77"
      }
    },
    {
      "cell_type": "markdown",
      "source": [
        "## Import libraries and define functions "
      ],
      "metadata": {
        "id": "TXAb3ri6yX-J"
      }
    },
    {
      "cell_type": "code",
      "execution_count": 211,
      "metadata": {
        "id": "o-CucBNksmES"
      },
      "outputs": [],
      "source": [
        "import regex as re\n",
        "import json\n",
        "\n",
        "def extractSeqFromFileToList(file_path):\n",
        "  '''This function takes a path of a fastafile and extracts all sequence names and\n",
        "  sequences into a nested list [[title_0, sequence_0], [title_1, sequence_1],...]'''\n",
        "\n",
        "  fasta_file = open(file_path, 'r')\n",
        "  contents = fasta_file.readlines()\n",
        "  fasta_file.close()\n",
        "\n",
        "  fasta_list=[]\n",
        "\n",
        "  for i in contents:\n",
        "    if '>' in i:\n",
        "      fasta_list.append([i.strip('>').strip(),''])\n",
        "    else:\n",
        "      fasta_list[-1][1] = fasta_list[-1][1]+i.strip()\n",
        "  print(f\"Extraction of sequence information from {file_path} finished.\")\n",
        "  return fasta_list\n",
        "\n",
        "\n",
        "def validateDNASquence(sequence):\n",
        "  '''Check if the sequence contains viable nucleotides only'''\n",
        "\n",
        "  bases = \"ATGCatgc-\"\n",
        "  for i in sequence:\n",
        "    if i not in bases:\n",
        "      print(\"warning, sequence doesn't contain cannonical nucleotides\")\n",
        "      return(False)\n",
        "  return(True)\n",
        "\n",
        "\n",
        "def compl(base):\n",
        "  if base == \"A\":\n",
        "    return('T')\n",
        "  elif base == \"T\":\n",
        "    return('A')\n",
        "  elif base == \"G\":\n",
        "    return('C')\n",
        "  elif base == \"C\":\n",
        "    return('G')\n",
        "  elif base == \"-\":\n",
        "    return('-')\n",
        "\n",
        "def rev_compl(seq):\n",
        "  new_seq = \"\"\n",
        "  for base in seq:\n",
        "    new_base = compl(base)\n",
        "    new_seq = new_base + new_seq\n",
        "  return(new_seq)\n",
        "\n",
        "def imperfectHomologySearch(sequence, query, min_homology=0.8, fixed_errors=False, inverted=True):\n",
        "\n",
        "  \n",
        "  if min_homology:\n",
        "    errors = round(len(query)*(1-min_homology))\n",
        "  if fixed_errors:\n",
        "    errors = fixed_errors\n",
        "  #print(f\"searching with {errors} errors...\")\n",
        "\n",
        "  output_list = re.findall( '(' + query + '){e<=' + str(errors) + '}', sequence)\n",
        "\n",
        "  if inverted == True:\n",
        "    query=rev_compl(query)\n",
        "  \n",
        "  query_match_pairs=[query, output_list]\n",
        "  if len(output_list) > 0:\n",
        "    if len(output_list) > 1:\n",
        "      print(\"This is unusual...\")\n",
        "    print(f'Found possible template(s) for {query}: {output_list}')\n",
        "    return(query_match_pairs)\n",
        "  else:\n",
        "    return([])\n",
        "\n",
        "\n",
        "def findInvertedRepeat(sequence, \n",
        "                       query_length=4,\n",
        "                       min_spacer=4,\n",
        "                       imperfect_homology=False,\n",
        "                       min_homology=0.8,\n",
        "                       fixed_errors=False,\n",
        "                       inverted=True):\n",
        "\n",
        "  query_string=sequence[:query_length]\n",
        "\n",
        "  if inverted == True:\n",
        "    query = rev_compl(query_string)\n",
        "  if inverted == False:\n",
        "    query = query_string\n",
        "    \n",
        "  sequence=sequence[query_length+min_spacer:]\n",
        "  query_complement = rev_compl(query)\n",
        "  output_pair_list=[]\n",
        "\n",
        "  for i in range(len(sequence)-query_length+1):\n",
        "    #print(sequence[i:query_length+i])\n",
        "    if imperfect_homology:\n",
        "      \n",
        "      \n",
        "      output_pair=imperfectHomologySearch(sequence[i:query_length+i],\n",
        "                                          query,\n",
        "                                          min_homology=min_homology,\n",
        "                                          fixed_errors=fixed_errors,\n",
        "                                          inverted=inverted)\n",
        "\n",
        "      if output_pair != []:\n",
        "        output_pair_list.append(output_pair)\n",
        "\n",
        "    else:\n",
        "      if sequence[i:query_length+i] == query:\n",
        "\n",
        "        if inverted == True:\n",
        "          print(f\"Success {query_complement}, {sequence[i:query_length+i]}\")\n",
        "          output_pair_list.append([query_complement, [sequence[i:query_length+i]]])\n",
        "\n",
        "        if inverted == False:\n",
        "          print(f\"Success {query}, {sequence[i:query_length+i]}\")\n",
        "          output_pair_list.append([query, [sequence[i:query_length+i]]])\n",
        "\n",
        "  return(output_pair_list)\n",
        "    \n",
        "  \n",
        "def searchSequenceForRepeats(sequence,\n",
        "                             min_query_length=4,\n",
        "                             max_query_length=25,\n",
        "                             min_spacer=0,\n",
        "                             window_size=250,\n",
        "                             imperfect_homology=False,\n",
        "                             min_homology=0.8,\n",
        "                             fixed_errors=False,\n",
        "                             inverted=True):\n",
        "  \n",
        "  if imperfect_homology:\n",
        "    print(f\"Search has been set to find quasi-pallindromes\")\n",
        "    if fixed_errors:\n",
        "      print(f\"    Allowing up to {fixed_errors} errors/mismatches...\")\n",
        "    if not fixed_errors:\n",
        "      print(f\"    Searching with a minimum of {min_homology} homology\")\n",
        "  if not imperfect_homology:\n",
        "    print(f\"Search has been set to find perfect pallindromes\")\n",
        "\n",
        "  \n",
        "  list_of_all_pairs=[]\n",
        "  for query_length in range(min_query_length, max_query_length):\n",
        "    print(f\"###Searching for inverted-repeating {query_length}bp-long fragments...\")\n",
        "    sequence_size=len(sequence)\n",
        "    for i in range(sequence_size-window_size+1):\n",
        "      seq=sequence[i:i+window_size]\n",
        "      output_pair_list = findInvertedRepeat(seq,\n",
        "                                            query_length=query_length,\n",
        "                                            min_spacer=min_spacer,\n",
        "                                            imperfect_homology=imperfect_homology,\n",
        "                                            min_homology=min_homology,\n",
        "                                            fixed_errors=fixed_errors,\n",
        "                                            inverted=inverted)\n",
        "      for pair in output_pair_list:\n",
        "        list_of_all_pairs.append(pair)\n",
        "\n",
        "  results_dictionary={}\n",
        "  print(\"Consolodating Results...\")\n",
        "  for pair in list_of_all_pairs:\n",
        "    query=pair[0]\n",
        "    if query in results_dictionary:\n",
        "      if pair[1][0] not in results_dictionary[query]:\n",
        "        results_dictionary[query].append(pair[1][0])\n",
        "    else:\n",
        "      results_dictionary[query] = [pair[1][0]]\n",
        "  print(\"Results were consolidated...\")\n",
        "  return(results_dictionary)"
      ]
    },
    {
      "cell_type": "markdown",
      "source": [
        "## Upload a sequence\n",
        "\n",
        "Sequence can be either a fasta file or a python string:\n",
        "\n",
        "- For fasta files set `path` to the path of your fasta file.\n",
        "\n",
        "- If you want to use a python string as input sequence, set the `sequence` varaible to that string.\n"
      ],
      "metadata": {
        "id": "UvZNGpgAfbAS"
      }
    },
    {
      "cell_type": "code",
      "source": [
        "#Directly set the string\n",
        "sequence='ATGTCCACAAAATCATATACCAGTAGAGCTGAGACTCATGCAAGTCCGGTTGCATCGAAACTTTTACGTTTAATGGATGAAAAGAAGACCAATTTGTGTGCTTCTCTTGACGTTCGTTCGACTGATGAGCTATTGAAACTTGTTGAAACGTTGGGTCCATACATTTGCCTTTTGAAAACACACGTTGATATCTTGGATGATTTCAGTTATGAGGGTACTGTCGTTCCATTGAAAGCATTGGCAGAGAAATACAAGTTCTTGATATTTGAGGACAGAAAATTCGCCGATATCGGTAACACAGTCAAATTACAATATACATCGGGCGTTTACCGTATCGCAGAATGGTCTGATATCACCAACGCCCACGGGGTTACTGGTGCTGGTATTGTTGCTGGCTTGAAACAAGGTGCGCAAGAGGTCACCAAAGAACCAAGGGGATTATTGATGCTTGCTGAATTGTCTTCCAAGGGTTCTCTAGCACACGGTGAATATACTAAGGGTACCGTTGATATTGCAAAGAGTGATAAAGATTTCGTTATTGGGTTCATTGCTCAGAACGATATGGGAGGAAGAGAAGAAGGGTTTGATTGGCTAATCATGACCCCAGGTGTAGGTTTAGACGACAAAGGCGATGCATTGGGTCAGCAGTACAGAACCGTCGACGAAGTTGTAAGTGGTGGATCAGATATCATCATTGTTGGCAGAGGACTTTTCGCCAAGGGTAGAGATCCTAAGGTTGAAGGTGAAAGATACAGAAATGCTGGATGGGAAGCGTACCAAAAGAGAATCAGCGCTCCCCATTAA'\n",
        "\n",
        "#Or set file path\n",
        "#path=\"/content/Lys2.fa\"\n",
        "#fasta_list=extractSeqFromFileToList(path)\n",
        "#sequence = fasta_list[0][1]\n",
        "\n",
        "#validate sequence\n",
        "\n",
        "print(f\"The uploaded sequence has {len(sequence)}bp\")\n",
        "if validateDNASquence(sequence):\n",
        "  print(\"### Sequence validated ###\")"
      ],
      "metadata": {
        "id": "_SWixitifd-d"
      },
      "execution_count": null,
      "outputs": []
    },
    {
      "cell_type": "markdown",
      "source": [
        "## Find the Inverted Repeats\n",
        "Adjust the parameters below to suit your needs. Description of each parameter is in a comment to the right of each parameter."
      ],
      "metadata": {
        "id": "U3yYaNcbz7lN"
      }
    },
    {
      "cell_type": "code",
      "source": [
        "#Set repeat Search Parameters\n",
        "\n",
        "inverted=True             # Sets search to Inverted (True) vs Direct (False) repeats\n",
        "min_query_length=5       # Sets min length of a query sequence\n",
        "max_query_length=10      # Sets max length of a query sequence\n",
        "min_spacer=3              # Set min distance between query and the repeat\n",
        "window_size=700           # Sets window size within which the search is confined\n",
        "imperfect_homology=True   # Set True/False, to search for imperfect/perfect homologies.\n",
        "min_homology=0.8          # Sets minimum homology treshold (a fraction) when imperfect_homology=True,  \n",
        "fixed_errors=False            # Sets maximum number of errors (del/sub) when imperfect_homology=True (set to False or to an integer)\n",
        "\n",
        "#Run the search\n",
        "results_dictionary = searchSequenceForRepeats(sequence=sequence,\n",
        "                         min_query_length=min_query_length,\n",
        "                         max_query_length=max_query_length,\n",
        "                         min_spacer=min_spacer,\n",
        "                         window_size=window_size,\n",
        "                         imperfect_homology=imperfect_homology,\n",
        "                         min_homology=min_homology,\n",
        "                         fixed_errors=fixed_errors,\n",
        "                         inverted=inverted\n",
        "                         )"
      ],
      "metadata": {
        "id": "bOqz3JYwCqy0"
      },
      "execution_count": null,
      "outputs": []
    },
    {
      "cell_type": "markdown",
      "source": [
        "## Save the output file as JSON\n",
        "\n",
        "Creates a JSON file with consolidated results and saves it as `output_file_name` that can be set to your custom name. The following cell also prints out the prettified result into a console."
      ],
      "metadata": {
        "id": "9KG1kJ-S0T1G"
      }
    },
    {
      "cell_type": "code",
      "source": [
        "#save output as json file (and print it out to console)\n",
        "\n",
        "output_file_name='json_output.json'\n",
        "\n",
        "with open(output_file_name, 'w') as outfile:\n",
        "    json.dump(results_dictionary, outfile)\n",
        "    \n",
        "\n",
        "json_object = json.dumps(results_dictionary, indent = 6) \n",
        "print(json_object)"
      ],
      "metadata": {
        "id": "68iV6RItIye5"
      },
      "execution_count": null,
      "outputs": []
    }
  ]
}